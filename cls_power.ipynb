{
 "cells": [
  {
   "cell_type": "code",
   "execution_count": 1,
   "id": "1c83492d",
   "metadata": {},
   "outputs": [
    {
     "name": "stdout",
     "output_type": "stream",
     "text": [
      "Enter the value for y: 10\n",
      "Enter the value for n: 2\n",
      "Power of y is: 100\n"
     ]
    }
   ],
   "source": [
    "class Power:\n",
    "    def pwr(self,y,n):\n",
    "        print(f\"Power of y is: {y**n}\")\n",
    "p = Power()\n",
    "y = int(input(\"Enter the value for y: \"))\n",
    "n = int(input(\"Enter the value for n: \"))\n",
    "p.pwr(y,n)"
   ]
  }
 ],
 "metadata": {
  "kernelspec": {
   "display_name": "Python 3 (ipykernel)",
   "language": "python",
   "name": "python3"
  },
  "language_info": {
   "codemirror_mode": {
    "name": "ipython",
    "version": 3
   },
   "file_extension": ".py",
   "mimetype": "text/x-python",
   "name": "python",
   "nbconvert_exporter": "python",
   "pygments_lexer": "ipython3",
   "version": "3.10.2"
  }
 },
 "nbformat": 4,
 "nbformat_minor": 5
}
